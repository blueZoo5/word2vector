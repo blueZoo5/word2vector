{
 "cells": [
  {
   "cell_type": "code",
   "execution_count": 3,
   "id": "826a59fe-9bd8-43a1-ad72-ca8e23ffb05d",
   "metadata": {
    "tags": []
   },
   "outputs": [],
   "source": [
    "# word2vector 로 유사어 찾기\n",
    "\n",
    "import pandas as pd\n",
    "import numpy as np\n",
    "from string import punctuation\n",
    "\n",
    "from tensorflow.keras.preprocessing.text import Tokenizer\n",
    "from tensorflow.keras.preprocessing.sequence import pad_sequences\n",
    "from tensorflow.keras.utils import to_categorical"
   ]
  },
  {
   "cell_type": "code",
   "execution_count": 13,
   "id": "8baf1697-12ad-493e-b975-2465e97fe377",
   "metadata": {
    "tags": []
   },
   "outputs": [],
   "source": [
    "import re\n",
    "import urllib.request\n",
    "import zipfile\n",
    "from lxml import etree\n",
    "from nltk.tokenize import word_tokenize, sent_tokenize"
   ]
  },
  {
   "cell_type": "code",
   "execution_count": 18,
   "id": "46cb6321-8238-452d-b9e1-28873c02e616",
   "metadata": {
    "tags": []
   },
   "outputs": [
    {
     "name": "stderr",
     "output_type": "stream",
     "text": [
      "C:\\Users\\USER\\AppData\\Local\\Temp\\ipykernel_9444\\2176771596.py:1: DtypeWarning: Columns (25,26) have mixed types. Specify dtype option on import or set low_memory=False.\n",
      "  df = pd.read_csv('C:/Users/USER/Desktop/project/ML_study/archive/CommentsApril2017.csv')\n"
     ]
    },
    {
     "data": {
      "text/html": [
       "<div>\n",
       "<style scoped>\n",
       "    .dataframe tbody tr th:only-of-type {\n",
       "        vertical-align: middle;\n",
       "    }\n",
       "\n",
       "    .dataframe tbody tr th {\n",
       "        vertical-align: top;\n",
       "    }\n",
       "\n",
       "    .dataframe thead th {\n",
       "        text-align: right;\n",
       "    }\n",
       "</style>\n",
       "<table border=\"1\" class=\"dataframe\">\n",
       "  <thead>\n",
       "    <tr style=\"text-align: right;\">\n",
       "      <th></th>\n",
       "      <th>approveDate</th>\n",
       "      <th>commentBody</th>\n",
       "      <th>commentID</th>\n",
       "      <th>commentSequence</th>\n",
       "      <th>commentTitle</th>\n",
       "      <th>commentType</th>\n",
       "      <th>createDate</th>\n",
       "      <th>depth</th>\n",
       "      <th>editorsSelection</th>\n",
       "      <th>parentID</th>\n",
       "      <th>...</th>\n",
       "      <th>userLocation</th>\n",
       "      <th>userTitle</th>\n",
       "      <th>userURL</th>\n",
       "      <th>inReplyTo</th>\n",
       "      <th>articleID</th>\n",
       "      <th>sectionName</th>\n",
       "      <th>newDesk</th>\n",
       "      <th>articleWordCount</th>\n",
       "      <th>printPage</th>\n",
       "      <th>typeOfMaterial</th>\n",
       "    </tr>\n",
       "  </thead>\n",
       "  <tbody>\n",
       "    <tr>\n",
       "      <th>0</th>\n",
       "      <td>1491245186</td>\n",
       "      <td>This project makes me happy to be a 30+ year T...</td>\n",
       "      <td>22022598.0</td>\n",
       "      <td>22022598</td>\n",
       "      <td>&lt;br/&gt;</td>\n",
       "      <td>comment</td>\n",
       "      <td>1.491237e+09</td>\n",
       "      <td>1</td>\n",
       "      <td>False</td>\n",
       "      <td>0.0</td>\n",
       "      <td>...</td>\n",
       "      <td>Riverside, CA</td>\n",
       "      <td>NaN</td>\n",
       "      <td>NaN</td>\n",
       "      <td>0</td>\n",
       "      <td>58def1347c459f24986d7c80</td>\n",
       "      <td>Unknown</td>\n",
       "      <td>Insider</td>\n",
       "      <td>716.0</td>\n",
       "      <td>2</td>\n",
       "      <td>News</td>\n",
       "    </tr>\n",
       "    <tr>\n",
       "      <th>1</th>\n",
       "      <td>1491188619</td>\n",
       "      <td>Stunning photos and reportage. Infuriating tha...</td>\n",
       "      <td>22017350.0</td>\n",
       "      <td>22017350</td>\n",
       "      <td>NaN</td>\n",
       "      <td>comment</td>\n",
       "      <td>1.491180e+09</td>\n",
       "      <td>1</td>\n",
       "      <td>False</td>\n",
       "      <td>0.0</td>\n",
       "      <td>...</td>\n",
       "      <td>&lt;br/&gt;</td>\n",
       "      <td>NaN</td>\n",
       "      <td>NaN</td>\n",
       "      <td>0</td>\n",
       "      <td>58def1347c459f24986d7c80</td>\n",
       "      <td>Unknown</td>\n",
       "      <td>Insider</td>\n",
       "      <td>716.0</td>\n",
       "      <td>2</td>\n",
       "      <td>News</td>\n",
       "    </tr>\n",
       "    <tr>\n",
       "      <th>2</th>\n",
       "      <td>1491188617</td>\n",
       "      <td>Brilliant work from conception to execution. I...</td>\n",
       "      <td>22017334.0</td>\n",
       "      <td>22017334</td>\n",
       "      <td>&lt;br/&gt;</td>\n",
       "      <td>comment</td>\n",
       "      <td>1.491179e+09</td>\n",
       "      <td>1</td>\n",
       "      <td>False</td>\n",
       "      <td>0.0</td>\n",
       "      <td>...</td>\n",
       "      <td>Raleigh NC</td>\n",
       "      <td>NaN</td>\n",
       "      <td>NaN</td>\n",
       "      <td>0</td>\n",
       "      <td>58def1347c459f24986d7c80</td>\n",
       "      <td>Unknown</td>\n",
       "      <td>Insider</td>\n",
       "      <td>716.0</td>\n",
       "      <td>2</td>\n",
       "      <td>News</td>\n",
       "    </tr>\n",
       "    <tr>\n",
       "      <th>3</th>\n",
       "      <td>1491167820</td>\n",
       "      <td>NYT reporters should provide a contributor's l...</td>\n",
       "      <td>22015913.0</td>\n",
       "      <td>22015913</td>\n",
       "      <td>&lt;br/&gt;</td>\n",
       "      <td>comment</td>\n",
       "      <td>1.491150e+09</td>\n",
       "      <td>1</td>\n",
       "      <td>False</td>\n",
       "      <td>0.0</td>\n",
       "      <td>...</td>\n",
       "      <td>Missouri, USA</td>\n",
       "      <td>NaN</td>\n",
       "      <td>NaN</td>\n",
       "      <td>0</td>\n",
       "      <td>58def1347c459f24986d7c80</td>\n",
       "      <td>Unknown</td>\n",
       "      <td>Insider</td>\n",
       "      <td>716.0</td>\n",
       "      <td>2</td>\n",
       "      <td>News</td>\n",
       "    </tr>\n",
       "    <tr>\n",
       "      <th>4</th>\n",
       "      <td>1491167815</td>\n",
       "      <td>Could only have been done in print. Stunning.</td>\n",
       "      <td>22015466.0</td>\n",
       "      <td>22015466</td>\n",
       "      <td>&lt;br/&gt;</td>\n",
       "      <td>comment</td>\n",
       "      <td>1.491147e+09</td>\n",
       "      <td>1</td>\n",
       "      <td>False</td>\n",
       "      <td>0.0</td>\n",
       "      <td>...</td>\n",
       "      <td>Tucson, Arizona</td>\n",
       "      <td>NaN</td>\n",
       "      <td>NaN</td>\n",
       "      <td>0</td>\n",
       "      <td>58def1347c459f24986d7c80</td>\n",
       "      <td>Unknown</td>\n",
       "      <td>Insider</td>\n",
       "      <td>716.0</td>\n",
       "      <td>2</td>\n",
       "      <td>News</td>\n",
       "    </tr>\n",
       "  </tbody>\n",
       "</table>\n",
       "<p>5 rows × 34 columns</p>\n",
       "</div>"
      ],
      "text/plain": [
       "   approveDate                                        commentBody   commentID  \\\n",
       "0   1491245186  This project makes me happy to be a 30+ year T...  22022598.0   \n",
       "1   1491188619  Stunning photos and reportage. Infuriating tha...  22017350.0   \n",
       "2   1491188617  Brilliant work from conception to execution. I...  22017334.0   \n",
       "3   1491167820  NYT reporters should provide a contributor's l...  22015913.0   \n",
       "4   1491167815     Could only have been done in print. Stunning.   22015466.0   \n",
       "\n",
       "   commentSequence commentTitle commentType    createDate  depth  \\\n",
       "0         22022598        <br/>     comment  1.491237e+09      1   \n",
       "1         22017350          NaN     comment  1.491180e+09      1   \n",
       "2         22017334        <br/>     comment  1.491179e+09      1   \n",
       "3         22015913        <br/>     comment  1.491150e+09      1   \n",
       "4         22015466        <br/>     comment  1.491147e+09      1   \n",
       "\n",
       "   editorsSelection  parentID  ...     userLocation userTitle userURL  \\\n",
       "0             False       0.0  ...    Riverside, CA       NaN     NaN   \n",
       "1             False       0.0  ...            <br/>       NaN     NaN   \n",
       "2             False       0.0  ...       Raleigh NC       NaN     NaN   \n",
       "3             False       0.0  ...    Missouri, USA       NaN     NaN   \n",
       "4             False       0.0  ...  Tucson, Arizona       NaN     NaN   \n",
       "\n",
       "   inReplyTo                 articleID  sectionName  newDesk  \\\n",
       "0          0  58def1347c459f24986d7c80      Unknown  Insider   \n",
       "1          0  58def1347c459f24986d7c80      Unknown  Insider   \n",
       "2          0  58def1347c459f24986d7c80      Unknown  Insider   \n",
       "3          0  58def1347c459f24986d7c80      Unknown  Insider   \n",
       "4          0  58def1347c459f24986d7c80      Unknown  Insider   \n",
       "\n",
       "   articleWordCount printPage  typeOfMaterial  \n",
       "0             716.0         2            News  \n",
       "1             716.0         2            News  \n",
       "2             716.0         2            News  \n",
       "3             716.0         2            News  \n",
       "4             716.0         2            News  \n",
       "\n",
       "[5 rows x 34 columns]"
      ]
     },
     "execution_count": 18,
     "metadata": {},
     "output_type": "execute_result"
    }
   ],
   "source": [
    "df = pd.read_csv('C:/Users/USER/Desktop/project/ML_study/archive/CommentsApril2017.csv')\n",
    "df.head()"
   ]
  },
  {
   "cell_type": "code",
   "execution_count": 37,
   "id": "47428de6-5709-45f1-adb7-eb116f1bbbd8",
   "metadata": {
    "tags": []
   },
   "outputs": [
    {
     "name": "stdout",
     "output_type": "stream",
     "text": [
      "0         This project makes me happy to be a 30+ year T...\n",
      "1         Stunning photos and reportage. Infuriating tha...\n",
      "2         Brilliant work from conception to execution. I...\n",
      "3         NYT reporters should provide a contributor's l...\n",
      "4            Could only have been done in print. Stunning. \n",
      "                                ...                        \n",
      "243827    Sorry, but pudding has nothing to do with it; ...\n",
      "243828    While it would be quite punny to spell it \"des...\n",
      "243829         See above comments. \"deserts\" is the proper.\n",
      "243830    John Rubinstein had two brief scenes with Joan...\n",
      "243831    Ye gods and little fishes, Stu, you're right ....\n",
      "Name: commentBody, Length: 243832, dtype: object\n"
     ]
    }
   ],
   "source": [
    "raw_text = df.commentBody\n",
    "print(raw_text)\n",
    "normalized_text = []\n",
    "for string in raw_text:\n",
    "     tokens = re.sub(r\"[^a-z0-9]+\", \" \", string.lower())\n",
    "     normalized_text.append(tokens)"
   ]
  },
  {
   "cell_type": "code",
   "execution_count": 38,
   "id": "6a0d0094-cb09-467f-8692-059a0e3b8781",
   "metadata": {
    "tags": []
   },
   "outputs": [
    {
     "name": "stdout",
     "output_type": "stream",
     "text": [
      "['this project makes me happy to be a 30 year times subscriber continue to innovate across all platforms please ', 'stunning photos and reportage infuriating that the trump admistration s draconian reinstatement of the global gag order will prevent men and women from receiving appropriate family planning advice so obviously desperately needed ', 'brilliant work from conception to execution i ve never seen anything like it as a paper of record it is important to leave a record of these and other peoples for whom no one else speaks please keep humanizing what are otherwise bland statistics it matters time and again their stories sounded like mine could have been mine we re about to see hordes of people far away experiencing utter devastation empathy goes away unless there are names and stories and pictures links to helping at organizations resources ', 'nyt reporters should provide a contributor s link to a crowdfunding project or aid organization focused on the specific subject of news stories like this not for every sad story but for the biggest and most obvious human problems on earth br br that should be a regular feature with a dedicated click button always located in the same familiar spot only 36 of america has truly hardened their hearts toward those suffering abroad ', 'could only have been done in print stunning ']\n"
     ]
    }
   ],
   "source": [
    "print(normalized_text[:5])"
   ]
  },
  {
   "cell_type": "code",
   "execution_count": 39,
   "id": "cea7e223-87e6-4eeb-8250-28b4995c18c7",
   "metadata": {
    "tags": []
   },
   "outputs": [],
   "source": [
    "result = [word_tokenize(sentence) for sentence in normalized_text]"
   ]
  },
  {
   "cell_type": "code",
   "execution_count": 40,
   "id": "e54d0e0d-e1a5-4686-9590-3d1c5759c489",
   "metadata": {
    "tags": []
   },
   "outputs": [
    {
     "name": "stdout",
     "output_type": "stream",
     "text": [
      "[['this', 'project', 'makes', 'me', 'happy', 'to', 'be', 'a', '30', 'year', 'times', 'subscriber', 'continue', 'to', 'innovate', 'across', 'all', 'platforms', 'please'], ['stunning', 'photos', 'and', 'reportage', 'infuriating', 'that', 'the', 'trump', 'admistration', 's', 'draconian', 'reinstatement', 'of', 'the', 'global', 'gag', 'order', 'will', 'prevent', 'men', 'and', 'women', 'from', 'receiving', 'appropriate', 'family', 'planning', 'advice', 'so', 'obviously', 'desperately', 'needed'], ['brilliant', 'work', 'from', 'conception', 'to', 'execution', 'i', 've', 'never', 'seen', 'anything', 'like', 'it', 'as', 'a', 'paper', 'of', 'record', 'it', 'is', 'important', 'to', 'leave', 'a', 'record', 'of', 'these', 'and', 'other', 'peoples', 'for', 'whom', 'no', 'one', 'else', 'speaks', 'please', 'keep', 'humanizing', 'what', 'are', 'otherwise', 'bland', 'statistics', 'it', 'matters', 'time', 'and', 'again', 'their', 'stories', 'sounded', 'like', 'mine', 'could', 'have', 'been', 'mine', 'we', 're', 'about', 'to', 'see', 'hordes', 'of', 'people', 'far', 'away', 'experiencing', 'utter', 'devastation', 'empathy', 'goes', 'away', 'unless', 'there', 'are', 'names', 'and', 'stories', 'and', 'pictures', 'links', 'to', 'helping', 'at', 'organizations', 'resources'], ['nyt', 'reporters', 'should', 'provide', 'a', 'contributor', 's', 'link', 'to', 'a', 'crowdfunding', 'project', 'or', 'aid', 'organization', 'focused', 'on', 'the', 'specific', 'subject', 'of', 'news', 'stories', 'like', 'this', 'not', 'for', 'every', 'sad', 'story', 'but', 'for', 'the', 'biggest', 'and', 'most', 'obvious', 'human', 'problems', 'on', 'earth', 'br', 'br', 'that', 'should', 'be', 'a', 'regular', 'feature', 'with', 'a', 'dedicated', 'click', 'button', 'always', 'located', 'in', 'the', 'same', 'familiar', 'spot', 'only', '36', 'of', 'america', 'has', 'truly', 'hardened', 'their', 'hearts', 'toward', 'those', 'suffering', 'abroad'], ['could', 'only', 'have', 'been', 'done', 'in', 'print', 'stunning']]\n"
     ]
    }
   ],
   "source": [
    "print(result[0:5])"
   ]
  },
  {
   "cell_type": "code",
   "execution_count": 41,
   "id": "ccfa787d-a436-41f9-a032-2c73950bc01d",
   "metadata": {
    "tags": []
   },
   "outputs": [
    {
     "name": "stdout",
     "output_type": "stream",
     "text": [
      "총 샘플의 개수 : 243832\n"
     ]
    }
   ],
   "source": [
    "print('총 샘플의 개수 : {}'.format(len(result)))"
   ]
  },
  {
   "cell_type": "code",
   "execution_count": 42,
   "id": "3eab1bf6-e4e9-45e6-a194-53bfc1be696d",
   "metadata": {
    "tags": []
   },
   "outputs": [],
   "source": [
    "# 벡터 차원 100, 주변단어 범위 5, 최소 빈도 5, 프로세스 수 4, CBOW 방식으로 학습\n",
    "from gensim.models import Word2Vec\n",
    "from gensim.models import KeyedVectors\n",
    "\n",
    "model = Word2Vec(sentences=result, vector_size=100, window=5, min_count=5, workers=4, sg=0)"
   ]
  },
  {
   "cell_type": "code",
   "execution_count": 43,
   "id": "8b2abc32-b0fd-42d4-9c50-17ee5f3659bf",
   "metadata": {
    "tags": []
   },
   "outputs": [
    {
     "name": "stdout",
     "output_type": "stream",
     "text": [
      "[('person', 0.8251510858535767), ('guy', 0.816261351108551), ('woman', 0.7441701292991638), ('artist', 0.6908255815505981), ('gentleman', 0.685021698474884), ('charlatan', 0.6590436100959778), ('buffoon', 0.6422693729400635), ('boy', 0.6412042379379272), ('psychopath', 0.6332657337188721), ('creature', 0.6260451674461365)]\n"
     ]
    }
   ],
   "source": [
    "#'man' 유사 단어 \n",
    "\n",
    "model_result = model.wv.most_similar(\"man\")\n",
    "print(model_result)"
   ]
  },
  {
   "cell_type": "code",
   "execution_count": 44,
   "id": "20620f55-23f8-4db9-823b-8a2d9ef59da4",
   "metadata": {
    "tags": []
   },
   "outputs": [
    {
     "name": "stdout",
     "output_type": "stream",
     "text": [
      "[('snow', 0.8498326539993286), ('forest', 0.8097003698348999), ('trees', 0.7840538024902344), ('sun', 0.7613822817802429), ('winter', 0.7404351234436035), ('waves', 0.7399057745933533), ('dust', 0.7229664325714111), ('fires', 0.7211699485778809), ('desert', 0.7167099714279175), ('melt', 0.7158868312835693)]\n"
     ]
    }
   ],
   "source": [
    "#'rain' 유사 단어 \n",
    "\n",
    "model_result = model.wv.most_similar(\"rain\")\n",
    "print(model_result)"
   ]
  },
  {
   "cell_type": "code",
   "execution_count": 45,
   "id": "f451db11-d7ab-47dd-bb9c-b22105590a78",
   "metadata": {
    "tags": []
   },
   "outputs": [],
   "source": [
    "# 해당 모델 저장\n",
    "\n",
    "model.wv.save_word2vec_format('eng_w2v_01') # 모델 저장"
   ]
  }
 ],
 "metadata": {
  "kernelspec": {
   "display_name": "Python 3 (ipykernel)",
   "language": "python",
   "name": "python3"
  },
  "language_info": {
   "codemirror_mode": {
    "name": "ipython",
    "version": 3
   },
   "file_extension": ".py",
   "mimetype": "text/x-python",
   "name": "python",
   "nbconvert_exporter": "python",
   "pygments_lexer": "ipython3",
   "version": "3.11.4"
  }
 },
 "nbformat": 4,
 "nbformat_minor": 5
}
